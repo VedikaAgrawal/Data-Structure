{
 "cells": [
  {
   "cell_type": "markdown",
   "id": "383e2216-0ac6-4eb1-a708-82c300f153c4",
   "metadata": {},
   "source": [
    "# Data Structures"
   ]
  },
  {
   "cell_type": "markdown",
   "id": "9cab5b2c-315b-47be-b3c1-25a6387720b1",
   "metadata": {},
   "source": [
    "1. What are data structures, and why are they important?\n",
    "   - Data structure is a way of organizing and storing data so that it can be accessed and manipulated effectively and efficiently.\n",
    "   - They are essential for optimizing performance and managing data effectively in algorithms."
   ]
  },
  {
   "cell_type": "markdown",
   "id": "23074f68-eb94-4180-9e4b-e50d54eaf594",
   "metadata": {},
   "source": [
    "2. Explain the difference between mutable and immutable data types with examples.\n",
    "   - Mutable: Can be modified after creation. E.g. Lists and ictionaries.\n",
    "   - Immutable: Cannot be modified after creation. E.g., Strings and tuples."
   ]
  },
  {
   "cell_type": "markdown",
   "id": "561e708e-bd2a-4c07-a221-d12f99993eb6",
   "metadata": {},
   "source": [
    "3. What are the main differences between lists and tuples in Python?\n",
    "   - The main difference between lists and tuples is that lists are mutable where as tuples are immutable, i.e. the elements of lists can be accessed and modified once the lists are created but the elements of tuples can be accessed but cannot be modified after creation."
   ]
  },
  {
   "cell_type": "markdown",
   "id": "2d4fe82c-dad3-4cd8-8b6f-98e068cb111e",
   "metadata": {},
   "source": [
    "4. Describe how dictionaries store data.\n",
    "   - Dictionaries use hash tables, storing key-value pairs.\n",
    "   - Keys are hashed to unique indices, ensuring constant-time complexity for lookups."
   ]
  },
  {
   "cell_type": "markdown",
   "id": "d368dbc9-80c9-4f88-adf9-412875c3d3e4",
   "metadata": {},
   "source": [
    "5. Why might you use a set instead of a list in Python?\n",
    "   - Sets remove duplicates. \n",
    "   - Sets offer faster membership checks (O(1)), unlike lists which require O(n) time."
   ]
  },
  {
   "cell_type": "markdown",
   "id": "cac9f77a-4c63-42f6-92df-a00eeb693e7f",
   "metadata": {},
   "source": [
    "6. What is a string in Python, and how is it different from a list?\n",
    "   - Strings are sequences of homogeneous characters and are immutable whereas Lists store elements of any type i.e. heterogeneous and are mutable."
   ]
  },
  {
   "cell_type": "markdown",
   "id": "0da9e69d-5b4e-47c2-acbc-61c9b3a11453",
   "metadata": {},
   "source": [
    "7. How do tuples ensure data integrity in Python?\n",
    "   - Tuples are immutable, preventing accidental modification, which is ideal for maintaining fixed data. "
   ]
  },
  {
   "cell_type": "markdown",
   "id": "d02793e9-b741-45ca-92bb-a39013307b74",
   "metadata": {},
   "source": [
    "8. What is a hash table, and how does it relate to dictionaries in Python?\n",
    "   - A hash table maps keys to values using a hashing function, ensuring efficient access.\n",
    "   - Python dictionaries are implemented as hash tables."
   ]
  },
  {
   "cell_type": "markdown",
   "id": "096850e1-23b6-4652-a5d9-bc80f0bb30ba",
   "metadata": {},
   "source": [
    "9. Can lists contain different data types in Python?\n",
    "    - Yes, lists can hold elements of different data types."
   ]
  },
  {
   "cell_type": "markdown",
   "id": "53dcea4a-cc67-469f-a7ce-a25906d030c2",
   "metadata": {},
   "source": [
    "10. Explain why strings are immutable in Python.\n",
    "    - Strings in Python are immutable to ensure memory efficiency, security, and thread safety. Since strings are widely used as keys in dictionaries and for storing critical data, immutability prevents accidental modification, ensuring data consistency. Moreover, immutable objects like strings allow Python to optimize memory usage through string interning."
   ]
  },
  {
   "cell_type": "markdown",
   "id": "bf70c4a1-fea6-4601-9626-0949e2ebfa72",
   "metadata": {},
   "source": [
    "11. What advantages do dictionaries offer over lists for certain tasks?\n",
    "    - Dictionaries allow constant-time access using keys, unlike lists that require linear search.\n",
    "    - Dictionaries allow storing data in key-value pairs, making it easier to organize and retrieve data efficiently, unlike lists which store only values.\n",
    "    - Dictionaries allow using strings, integers, or tuples as keys, enabling more complex and meaningful indexing compared to list indices."
   ]
  },
  {
   "cell_type": "markdown",
   "id": "47fb04d2-b3f5-4434-b3f4-eb4b37cdfb9b",
   "metadata": {},
   "source": [
    "12. Describe a scenario where using a tuple would be preferable over a list.\n",
    "    - A scenario can be when we have to store geographic coordinates (latitude, longitude) that should remain constant.\n",
    "    - At this place tuple is ideal because it ensures data immutability."
   ]
  },
  {
   "cell_type": "markdown",
   "id": "48bf95ae-900b-4aa2-9dc8-a29ff50364ef",
   "metadata": {},
   "source": [
    "13. How do sets handle duplicate values in Python?\n",
    "    - When elements are added to a set, Python automatically removes any duplicate values. Sets are implemented using hash tables, which map each element to a unique hash value. If a duplicate is encountered, it is ignored since the hash value already exists in the set."
   ]
  },
  {
   "cell_type": "markdown",
   "id": "5ecd63e8-b220-4e99-afe1-b41a82b1e304",
   "metadata": {},
   "source": [
    "14. How does the “in” keyword work differently for lists and dictionaries?\n",
    "    - Lists: Checks for element existence (O(n)).\n",
    "    - Dictionaries: Checks key existence (O(1))."
   ]
  },
  {
   "cell_type": "markdown",
   "id": "3f758c5d-561e-4099-9edd-7ad13a6bc6fd",
   "metadata": {},
   "source": [
    "15. Can you modify the elements of a tuple? Explain why or why not.\n",
    "    - No, because tuples are immutable and cannot be modified after creation."
   ]
  },
  {
   "cell_type": "markdown",
   "id": "ec2f1a4d-d7a9-4ae9-bb24-1c3dd434410c",
   "metadata": {},
   "source": [
    "16. What is a nested dictionary, and give an example of its use case.\n",
    "    - A nested dictionary is a dictionary that contains one or more dictionaries as its values. It allows storing hierarchical or structured data in a more organized manner.\n",
    "      "
   ]
  },
  {
   "cell_type": "code",
   "execution_count": 34,
   "id": "ce508d0a-8e23-4359-a49c-619421c0ec65",
   "metadata": {},
   "outputs": [],
   "source": [
    "# Example of nested dictionary\n",
    "student_data = {\n",
    "    \"Vedika\": {\"age\": 24, \"city\": \"Raipur\"},\n",
    "    \"Ritik\": {\"age\": 24, \"city\": \"Bhilai\"}\n",
    "}"
   ]
  },
  {
   "cell_type": "markdown",
   "id": "e0100de0-ecc4-4a9d-85ea-6d32362a7724",
   "metadata": {},
   "source": [
    "17. Describe the time complexity of accessing elements in a dictionary.\n",
    "    - Best case and Average case complexity of accessing elements in a dictionary is O(1): Accessing elements in a dictionary is performed using hashing. The hash() function generates a unique hash value for the key, which is then used to locate the corresponding value in constant time.\n",
    "    - Worst case O(n): In rare cases of hash collisions, multiple keys may be mapped to the same hash value.\n",
    "If collision resolution techniques (like probing) take longer, the time complexity can degrade to O(n) in the worst case.\n"
   ]
  },
  {
   "cell_type": "markdown",
   "id": "39e7b830-98e8-447f-ac1d-9968df88b44a",
   "metadata": {},
   "source": [
    "18. In what situations are lists preferred over dictionaries?\n",
    "    - Lists are preferred in situations where order is essential or for sequential processing."
   ]
  },
  {
   "cell_type": "markdown",
   "id": "083d11df-d402-4ebf-9b96-e62bafdb05d0",
   "metadata": {},
   "source": [
    "19. Why are dictionaries considered unordered, and how does that affect data retrieval?\n",
    "    - Dictionaries store key-value pairs using a hash table, where the order of elements are based on the hash of the keys, not the order of insertion.\n",
    "    - It affects the data retreival as : 1) Retrieval order is unpredictable. 2) Iterating over a dictionary could return items in a different order each time, making it unsuitable for tasks where order matters."
   ]
  },
  {
   "cell_type": "markdown",
   "id": "d35975a1-8107-4b6e-abd9-a0f010a6ac6b",
   "metadata": {},
   "source": [
    "20. Explain the difference between a list and a dictionary in terms of data retrieval.\n",
    "    - Lists: 1) Access elements using an index. 2) Indices are integers starting from 0 to n-1. 3) Time Complexity: O(1) for direct access.\n",
    "    - Dictionary: 1) Access elements using a key. 2) Keys are hashed to locate the corresponding value. 3) Time Complexity: O(1) on average.\n"
   ]
  },
  {
   "cell_type": "markdown",
   "id": "2e5416f6-d0d0-4f03-922e-536e29292d10",
   "metadata": {},
   "source": [
    "## Practical Questions"
   ]
  },
  {
   "cell_type": "code",
   "execution_count": 44,
   "id": "011458a8-74bc-41cf-94ef-4ea78801bc64",
   "metadata": {},
   "outputs": [
    {
     "name": "stdout",
     "output_type": "stream",
     "text": [
      "Vedika\n"
     ]
    }
   ],
   "source": [
    "# 1. Write a code to create a string with your name and print it.\n",
    "name = \"Vedika\"\n",
    "print(name)"
   ]
  },
  {
   "cell_type": "code",
   "execution_count": 48,
   "id": "6011a554-fdcb-4925-aad4-899bc2615122",
   "metadata": {},
   "outputs": [
    {
     "name": "stdout",
     "output_type": "stream",
     "text": [
      "11\n"
     ]
    }
   ],
   "source": [
    "# 2. Write a code to find the length of the string \"Hello World\".\n",
    "str = \"Hello World\"\n",
    "print(len(str))"
   ]
  },
  {
   "cell_type": "code",
   "execution_count": 52,
   "id": "21dca67f-f891-4a4b-8399-9599f7e2e433",
   "metadata": {},
   "outputs": [
    {
     "name": "stdout",
     "output_type": "stream",
     "text": [
      "Pyt\n"
     ]
    }
   ],
   "source": [
    "# 3. Write a code to slice the first 3 characters from the string \"Python Programming\".\n",
    "str = \"Python Programming\"\n",
    "print(str[:3])"
   ]
  },
  {
   "cell_type": "code",
   "execution_count": 54,
   "id": "69538112-5353-409e-9177-48588d515acd",
   "metadata": {},
   "outputs": [
    {
     "name": "stdout",
     "output_type": "stream",
     "text": [
      "HELLO\n"
     ]
    }
   ],
   "source": [
    "# 4. Write a code to convert the string \"hello\" to uppercase.\n",
    "str = \"hello\"\n",
    "print(str.upper())"
   ]
  },
  {
   "cell_type": "code",
   "execution_count": 60,
   "id": "75d79e56-ff50-4c3f-9c51-b73b33f20fe6",
   "metadata": {},
   "outputs": [
    {
     "name": "stdout",
     "output_type": "stream",
     "text": [
      "I like orange\n"
     ]
    }
   ],
   "source": [
    "# 5. Write a code to replace the word \"apple\" with \"orange\" in the string \"I like apple\". \n",
    "str = \"I like apple\"\n",
    "new_str = str.replace(\"apple\", \"orange\")\n",
    "print(new_str)"
   ]
  },
  {
   "cell_type": "code",
   "execution_count": 62,
   "id": "1b2fff5f-c8e4-438c-a1b4-0a1d54efb6e9",
   "metadata": {},
   "outputs": [
    {
     "name": "stdout",
     "output_type": "stream",
     "text": [
      "[1, 2, 3, 4, 5]\n"
     ]
    }
   ],
   "source": [
    "# 6. Write a code to create a list with numbers 1 to 5 and print it.\n",
    "num_list = [1, 2, 3, 4, 5]\n",
    "print(num_list)"
   ]
  },
  {
   "cell_type": "code",
   "execution_count": 64,
   "id": "7f8b21ff-8265-403c-90f9-045c99e58576",
   "metadata": {},
   "outputs": [
    {
     "name": "stdout",
     "output_type": "stream",
     "text": [
      "[1, 2, 3, 4, 10]\n"
     ]
    }
   ],
   "source": [
    "# 7. Write a code to append the number 10 to the list [1, 2, 3, 4].\n",
    "num_list = [1, 2, 3, 4]\n",
    "num_list.append(10)\n",
    "print(num_list)"
   ]
  },
  {
   "cell_type": "code",
   "execution_count": 66,
   "id": "65a7ba25-5a32-43b4-958e-24017719209f",
   "metadata": {},
   "outputs": [
    {
     "name": "stdout",
     "output_type": "stream",
     "text": [
      "[1, 2, 4, 5]\n"
     ]
    }
   ],
   "source": [
    "# 8. Write a code to remove the number 3 from the list [1, 2, 3, 4, 5].\n",
    "num_list = [1, 2, 3, 4, 5]\n",
    "num_list.remove(3)\n",
    "print(num_list)"
   ]
  },
  {
   "cell_type": "code",
   "execution_count": 68,
   "id": "76d696a6-102c-4098-af1b-cbed46d88b27",
   "metadata": {},
   "outputs": [
    {
     "name": "stdout",
     "output_type": "stream",
     "text": [
      "b\n"
     ]
    }
   ],
   "source": [
    "# 9. Write a code to access the second element in the list ['a', 'b', 'c', 'd'].\n",
    "char_list = ['a', 'b', 'c', 'd']\n",
    "print(char_list[1])"
   ]
  },
  {
   "cell_type": "code",
   "execution_count": 70,
   "id": "662b03ee-27c7-4770-ac54-f869d6598453",
   "metadata": {},
   "outputs": [
    {
     "name": "stdout",
     "output_type": "stream",
     "text": [
      "[50, 40, 30, 20, 10]\n"
     ]
    }
   ],
   "source": [
    "# 10. Write a code to reverse the list [10, 20, 30, 40, 50].\n",
    "num_list = [10, 20, 30, 40, 50]\n",
    "num_list.reverse()\n",
    "print(num_list)"
   ]
  },
  {
   "cell_type": "code",
   "execution_count": 74,
   "id": "1d7949b4-40bc-4179-9cd7-244b8774ac9e",
   "metadata": {},
   "outputs": [
    {
     "name": "stdout",
     "output_type": "stream",
     "text": [
      "(100, 200, 300)\n"
     ]
    }
   ],
   "source": [
    "# 11. Write a code to create a tuple with the elements 100, 200, 300 and print it.\n",
    "tp = (100, 200, 300)\n",
    "print(tp)"
   ]
  },
  {
   "cell_type": "code",
   "execution_count": 79,
   "id": "51d241e4-eabf-413f-9add-8fecfdccaa6c",
   "metadata": {},
   "outputs": [
    {
     "name": "stdout",
     "output_type": "stream",
     "text": [
      "blue\n"
     ]
    }
   ],
   "source": [
    "# 12. Write a code to access the second-to-last element of the tuple ('red', 'green', 'blue', 'yellow').\n",
    "colors = ('red', 'green', 'blue', 'yellow')\n",
    "print(colors[-2])"
   ]
  },
  {
   "cell_type": "code",
   "execution_count": 81,
   "id": "ac88bd0c-9e92-4af6-ab9d-60330e8257d9",
   "metadata": {},
   "outputs": [
    {
     "name": "stdout",
     "output_type": "stream",
     "text": [
      "5\n"
     ]
    }
   ],
   "source": [
    "# 13. Write a code to find the minimum number in the tuple (10, 20, 5, 15).\n",
    "num_tuple = (10, 20, 5, 15)\n",
    "print(min(num_tuple))"
   ]
  },
  {
   "cell_type": "code",
   "execution_count": 83,
   "id": "0ca30c94-913e-4148-b854-030c1c1bcde8",
   "metadata": {},
   "outputs": [
    {
     "name": "stdout",
     "output_type": "stream",
     "text": [
      "1\n"
     ]
    }
   ],
   "source": [
    "# 14. Write a code to find the index of the element \"cat\" in the tuple ('dog', 'cat', 'rabbit').\n",
    "animals = ('dog', 'cat', 'rabbit')\n",
    "print(animals.index('cat'))"
   ]
  },
  {
   "cell_type": "code",
   "execution_count": 85,
   "id": "8c872e51-96cd-4acb-afea-573099fcc75e",
   "metadata": {},
   "outputs": [
    {
     "name": "stdout",
     "output_type": "stream",
     "text": [
      "False\n"
     ]
    }
   ],
   "source": [
    "# 15. Write a code to create a tuple containing three different fruits and check if \"kiwi\" is in it.\n",
    "fruits = ('apple', 'banana', 'mango')\n",
    "print('kiwi' in fruits)"
   ]
  },
  {
   "cell_type": "code",
   "execution_count": 87,
   "id": "547ab456-1bbf-4ff6-8865-83cf07701b2e",
   "metadata": {},
   "outputs": [
    {
     "name": "stdout",
     "output_type": "stream",
     "text": [
      "{'a', 'c', 'b'}\n"
     ]
    }
   ],
   "source": [
    "# 16. Write a code to create a set with the elements 'a', 'b', 'c' and print it.\n",
    "my_set = {'a', 'b', 'c'}\n",
    "print(my_set)"
   ]
  },
  {
   "cell_type": "code",
   "execution_count": 89,
   "id": "9cdb4a3d-b774-4ec8-bc4c-3642b490b3bd",
   "metadata": {},
   "outputs": [
    {
     "name": "stdout",
     "output_type": "stream",
     "text": [
      "set()\n"
     ]
    }
   ],
   "source": [
    "# 17. Write a code to clear all elements from the set {1, 2, 3, 4, 5}.\n",
    "my_set = {1, 2, 3, 4, 5}\n",
    "my_set.clear()\n",
    "print(my_set)"
   ]
  },
  {
   "cell_type": "code",
   "execution_count": 91,
   "id": "12eba8be-e620-4592-8106-ec17ddc58620",
   "metadata": {},
   "outputs": [
    {
     "name": "stdout",
     "output_type": "stream",
     "text": [
      "{1, 2, 3}\n"
     ]
    }
   ],
   "source": [
    "# 18. Write a code to remove the element 4 from the set {1, 2, 3, 4}.\n",
    "my_set = {1, 2, 3, 4}\n",
    "my_set.discard(4)\n",
    "print(my_set)"
   ]
  },
  {
   "cell_type": "code",
   "execution_count": 93,
   "id": "2e543503-0e4e-443f-9e8d-cfc9c94e4798",
   "metadata": {},
   "outputs": [
    {
     "name": "stdout",
     "output_type": "stream",
     "text": [
      "{1, 2, 3, 4, 5}\n"
     ]
    }
   ],
   "source": [
    "# 19. Write a code to find the union of two sets {1, 2, 3} and {3, 4, 5}.\n",
    "set1 = {1, 2, 3}\n",
    "set2 = {3, 4, 5}\n",
    "print(set1.union(set2))"
   ]
  },
  {
   "cell_type": "code",
   "execution_count": 95,
   "id": "76c304bb-ef88-4ab8-a618-ec5ac31be27e",
   "metadata": {},
   "outputs": [
    {
     "name": "stdout",
     "output_type": "stream",
     "text": [
      "{2, 3}\n"
     ]
    }
   ],
   "source": [
    "# 20. Write a code to find the intersection of two sets {1, 2, 3} and {2, 3, 4}.\n",
    "set1 = {1, 2, 3}\n",
    "set2 = {2, 3, 4}\n",
    "print(set1.intersection(set2))"
   ]
  },
  {
   "cell_type": "code",
   "execution_count": 97,
   "id": "e9c1c2d7-4b32-4ae7-adf8-d5d32f66e4c7",
   "metadata": {},
   "outputs": [
    {
     "name": "stdout",
     "output_type": "stream",
     "text": [
      "{'name': 'Vedika', 'age': 24, 'city': 'Raigarh'}\n"
     ]
    }
   ],
   "source": [
    "# 21. Write a code to create a dictionary with the keys \"name\", \"age\", and \"city\", and print it.\n",
    "my_dict = {\"name\": \"Vedika\", \"age\": 24, \"city\": \"Raigarh\"}\n",
    "print(my_dict)"
   ]
  },
  {
   "cell_type": "code",
   "execution_count": 99,
   "id": "aceb1bea-c953-4a9a-93af-7a63296e0f4f",
   "metadata": {},
   "outputs": [
    {
     "name": "stdout",
     "output_type": "stream",
     "text": [
      "{'name': 'John', 'age': 25, 'country': 'USA'}\n"
     ]
    }
   ],
   "source": [
    "# 22. Write a code to add a new key-value pair \"country\": \"USA\" to the dictionary {'name': 'John', 'age': 25}.\n",
    "my_dict = {'name': 'John', 'age': 25}\n",
    "my_dict['country'] = 'USA'\n",
    "print(my_dict)"
   ]
  },
  {
   "cell_type": "code",
   "execution_count": 101,
   "id": "6060e9d8-23a1-4925-aab2-1c33c3ae04c5",
   "metadata": {},
   "outputs": [
    {
     "name": "stdout",
     "output_type": "stream",
     "text": [
      "Alice\n"
     ]
    }
   ],
   "source": [
    "# 23. Write a code to access the value associated with the key \"name\" in the dictionary {'name': 'Alice', 'age': 30}.\n",
    "my_dict = {'name': 'Alice', 'age': 30}\n",
    "print(my_dict['name'])"
   ]
  },
  {
   "cell_type": "code",
   "execution_count": 103,
   "id": "c92baac3-d4b5-412f-87e9-da58132dac62",
   "metadata": {},
   "outputs": [
    {
     "name": "stdout",
     "output_type": "stream",
     "text": [
      "{'name': 'Bob', 'city': 'New York'}\n"
     ]
    }
   ],
   "source": [
    "# 24. Write a code to remove the key \"age\" from the dictionary {'name': 'Bob', 'age': 22, 'city': 'New York'}.\n",
    "my_dict = {'name': 'Bob', 'age': 22, 'city': 'New York'}\n",
    "my_dict.pop('age')\n",
    "print(my_dict)"
   ]
  },
  {
   "cell_type": "code",
   "execution_count": 105,
   "id": "04373002-4d61-4cb1-87fb-bac451becacc",
   "metadata": {},
   "outputs": [
    {
     "name": "stdout",
     "output_type": "stream",
     "text": [
      "True\n"
     ]
    }
   ],
   "source": [
    "# 25. Write a code to check if the key \"city\" exists in the dictionary {'name': 'Alice', 'city': 'Paris'}.\n",
    "my_dict = {'name': 'Alice', 'city': 'Paris'}\n",
    "print('city' in my_dict)"
   ]
  },
  {
   "cell_type": "code",
   "execution_count": 107,
   "id": "401204e6-0aee-44a9-a675-7e44a49bd2c3",
   "metadata": {},
   "outputs": [
    {
     "name": "stdout",
     "output_type": "stream",
     "text": [
      "[1, 2, 3] (4, 5, 6) {'name': 'John', 'age': 25}\n"
     ]
    }
   ],
   "source": [
    "# 26. Write a code to create a list, a tuple, and a dictionary, and print them all.\n",
    "my_list = [1, 2, 3]\n",
    "my_tuple = (4, 5, 6)\n",
    "my_dict = {\"name\": \"John\", \"age\": 25}\n",
    "print(my_list, my_tuple, my_dict)"
   ]
  },
  {
   "cell_type": "code",
   "execution_count": 109,
   "id": "9dc508a8-24d4-4bde-b06d-318ebb62812a",
   "metadata": {},
   "outputs": [
    {
     "name": "stdout",
     "output_type": "stream",
     "text": [
      "[25, 29, 33, 55, 64]\n"
     ]
    }
   ],
   "source": [
    "# 27. Write a code to create a list of 5 random numbers between 1 and 100, sort it in ascending order, and print the result.\n",
    "import random\n",
    "my_list = random.sample(range(1, 101), 5)\n",
    "my_list.sort()\n",
    "print(my_list)"
   ]
  },
  {
   "cell_type": "code",
   "execution_count": 111,
   "id": "f2c29cd6-5d77-4711-8922-6258b01f3b72",
   "metadata": {},
   "outputs": [
    {
     "name": "stdout",
     "output_type": "stream",
     "text": [
      "date\n"
     ]
    }
   ],
   "source": [
    "# 28. Write a code to create a list with strings and print the element at the third index.\n",
    "my_list = ['apple', 'banana', 'cherry', 'date', 'fig']\n",
    "print(my_list[3])"
   ]
  },
  {
   "cell_type": "code",
   "execution_count": 113,
   "id": "8cb575dd-3e04-43b0-8700-73b69e4dc0e4",
   "metadata": {},
   "outputs": [
    {
     "name": "stdout",
     "output_type": "stream",
     "text": [
      "{'a': 1, 'b': 2, 'c': 3, 'd': 4}\n"
     ]
    }
   ],
   "source": [
    "# 29. Write a code to combine two dictionaries into one and print the result.\n",
    "dict1 = {'a': 1, 'b': 2}\n",
    "dict2 = {'c': 3, 'd': 4}\n",
    "combined_dict = {**dict1, **dict2}\n",
    "print(combined_dict)"
   ]
  },
  {
   "cell_type": "code",
   "execution_count": 115,
   "id": "db8d1cab-9863-4dd0-872c-1a541f58db3e",
   "metadata": {},
   "outputs": [
    {
     "name": "stdout",
     "output_type": "stream",
     "text": [
      "{'apple', 'banana', 'cherry'}\n"
     ]
    }
   ],
   "source": [
    "# 30. Write a code to convert a list of strings into a set.\n",
    "my_list = ['apple', 'banana', 'cherry', 'apple']\n",
    "my_set = set(my_list)\n",
    "print(my_set)"
   ]
  },
  {
   "cell_type": "code",
   "execution_count": null,
   "id": "ed070144-871b-40ef-8cde-53941b6f1815",
   "metadata": {},
   "outputs": [],
   "source": []
  }
 ],
 "metadata": {
  "kernelspec": {
   "display_name": "Python 3 (ipykernel)",
   "language": "python",
   "name": "python3"
  },
  "language_info": {
   "codemirror_mode": {
    "name": "ipython",
    "version": 3
   },
   "file_extension": ".py",
   "mimetype": "text/x-python",
   "name": "python",
   "nbconvert_exporter": "python",
   "pygments_lexer": "ipython3",
   "version": "3.12.2"
  }
 },
 "nbformat": 4,
 "nbformat_minor": 5
}
